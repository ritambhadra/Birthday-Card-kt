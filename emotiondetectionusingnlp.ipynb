{
  "nbformat": 4,
  "nbformat_minor": 0,
  "metadata": {
    "kernelspec": {
      "language": "python",
      "display_name": "Python 3",
      "name": "python3"
    },
    "language_info": {
      "pygments_lexer": "ipython3",
      "nbconvert_exporter": "python",
      "version": "3.6.4",
      "file_extension": ".py",
      "codemirror_mode": {
        "name": "ipython",
        "version": 3
      },
      "name": "python",
      "mimetype": "text/x-python"
    },
    "colab": {
      "name": "emotiondetectionusingnlp.ipynb",
      "provenance": [],
      "collapsed_sections": [],
      "include_colab_link": true
    }
  },
  "cells": [
    {
      "cell_type": "markdown",
      "metadata": {
        "id": "view-in-github",
        "colab_type": "text"
      },
      "source": [
        "<a href=\"https://colab.research.google.com/github/imRitam10/Birthday-Card-kt/blob/main/emotiondetectionusingnlp.ipynb\" target=\"_parent\"><img src=\"https://colab.research.google.com/assets/colab-badge.svg\" alt=\"Open In Colab\"/></a>"
      ]
    },
    {
      "cell_type": "markdown",
      "metadata": {
        "id": "CrYJAcPMbJz1"
      },
      "source": [
        "# Data Information"
      ]
    },
    {
      "cell_type": "code",
      "metadata": {
        "execution": {
          "iopub.status.busy": "2021-11-18T18:23:15.996120Z",
          "iopub.execute_input": "2021-11-18T18:23:15.996596Z",
          "iopub.status.idle": "2021-11-18T18:23:56.075975Z",
          "shell.execute_reply.started": "2021-11-18T18:23:15.996543Z",
          "shell.execute_reply": "2021-11-18T18:23:56.075053Z"
        },
        "trusted": true,
        "colab": {
          "base_uri": "https://localhost:8080/"
        },
        "id": "ZV6pCb3TVGAs",
        "outputId": "f8f752fb-cc4c-4220-fc5a-9850e0a8e435"
      },
      "source": [
        "import numpy as np\n",
        "import pandas as pd\n",
        "import matplotlib.pyplot as plt\n",
        "import math\n",
        "import mlxtend\n",
        "import sklearn.cluster as cluster\n",
        "import sklearn.neighbors\n",
        "import sklearn.metrics as metrics\n",
        "import re\n",
        "from nltk.corpus import stopwords\n",
        "from sklearn.feature_extraction.text import CountVectorizer\n",
        "from sklearn.metrics.pairwise import cosine_similarity\n",
        "import string\n",
        "from sklearn.metrics import ConfusionMatrixDisplay\n",
        "from sklearn.linear_model import LogisticRegression\n",
        "from sklearn.model_selection import train_test_split\n",
        "from sklearn.model_selection import cross_val_score\n",
        "from sklearn.feature_extraction.text import TfidfTransformer\n",
        "from sklearn.naive_bayes import MultinomialNB\n",
        "from sklearn.metrics import classification_report,confusion_matrix, roc_curve, auc, precision_score, recall_score, f1_score, precision_recall_curve\n",
        "import nltk\n",
        "nltk.download('wordnet')\n",
        "nltk.download('stopwords')\n",
        "from nltk.tokenize import word_tokenize \n",
        "from nltk.tokenize import RegexpTokenizer\n",
        "import warnings\n",
        "warnings.filterwarnings('ignore')\n",
        "\n",
        "# Input data files are available in the read-only \"../input/\" directory\n",
        "# For example, running this (by clicking run or pressing Shift+Enter) will list all files under the input directory\n",
        "\n",
        "import os\n",
        "for dirname, _, filenames in os.walk('/kaggle/input'):\n",
        "    for filename in filenames:\n",
        "        print(os.path.join(dirname, filename))\n",
        "\n",
        "# You can write up to 20GB to the current directory (/kaggle/working/) that gets preserved as output when you create a version using \"Save & Run All\" \n",
        "# You can also write temporary files to /kaggle/temp/, but they won't be saved outside of the current session"
      ],
      "execution_count": 32,
      "outputs": [
        {
          "output_type": "stream",
          "name": "stdout",
          "text": [
            "[nltk_data] Downloading package wordnet to /root/nltk_data...\n",
            "[nltk_data]   Package wordnet is already up-to-date!\n",
            "[nltk_data] Downloading package stopwords to /root/nltk_data...\n",
            "[nltk_data]   Package stopwords is already up-to-date!\n"
          ]
        }
      ]
    },
    {
      "cell_type": "markdown",
      "metadata": {
        "id": "AYsKygirDHXw"
      },
      "source": [
        "# Load and explore the data\n",
        "#### The data is available at this source, and you can learn more about how and why this dataset is created from this paper.\n",
        "Data source: https://www.kaggle.com/praveengovi/emotions-dataset-for-nlp "
      ]
    },
    {
      "cell_type": "code",
      "metadata": {
        "execution": {
          "iopub.status.busy": "2021-11-18T18:23:56.077676Z",
          "iopub.execute_input": "2021-11-18T18:23:56.077921Z",
          "iopub.status.idle": "2021-11-18T18:23:56.138524Z",
          "shell.execute_reply.started": "2021-11-18T18:23:56.077890Z",
          "shell.execute_reply": "2021-11-18T18:23:56.137667Z"
        },
        "trusted": true,
        "colab": {
          "base_uri": "https://localhost:8080/"
        },
        "id": "-cLXFN-aVGAv",
        "outputId": "09abef78-c354-432e-c3cb-878daf3ae89c"
      },
      "source": [
        "train_data = pd.read_csv('train.txt',names=['sentence','emotion'],header=None, sep=';')\n",
        "test_data = pd.read_csv('test.txt',names=['sentence','emotion'],header=None, sep=';')\n",
        "val_data= pd.read_csv('val.txt',names=['sentence','emotion'],header=None, sep=';')\n",
        "df = pd.concat([train_data,test_data, val_data])\n",
        "print('Total data:',df.shape)"
      ],
      "execution_count": 33,
      "outputs": [
        {
          "output_type": "stream",
          "name": "stdout",
          "text": [
            "Total data: (20000, 2)\n"
          ]
        }
      ]
    },
    {
      "cell_type": "code",
      "metadata": {
        "id": "K-Rc1a0xPAbz",
        "execution": {
          "iopub.status.busy": "2021-11-18T18:23:56.140002Z",
          "iopub.execute_input": "2021-11-18T18:23:56.140249Z",
          "iopub.status.idle": "2021-11-18T18:23:56.154454Z",
          "shell.execute_reply.started": "2021-11-18T18:23:56.140220Z",
          "shell.execute_reply": "2021-11-18T18:23:56.153835Z"
        },
        "trusted": true,
        "colab": {
          "base_uri": "https://localhost:8080/"
        },
        "outputId": "39b47ebc-beb5-4f79-ce45-9a0ac2cbc90d"
      },
      "source": [
        "# Null Check\n",
        "train_data.isnull().sum()\n",
        "test_data.isnull().sum()\n",
        "val_data.isnull().sum()"
      ],
      "execution_count": 34,
      "outputs": [
        {
          "output_type": "execute_result",
          "data": {
            "text/plain": [
              "sentence    0\n",
              "emotion     0\n",
              "dtype: int64"
            ]
          },
          "metadata": {},
          "execution_count": 34
        }
      ]
    },
    {
      "cell_type": "code",
      "metadata": {
        "id": "geUnupErPFz2",
        "execution": {
          "iopub.status.busy": "2021-11-18T18:23:56.156004Z",
          "iopub.execute_input": "2021-11-18T18:23:56.156213Z",
          "iopub.status.idle": "2021-11-18T18:23:56.178818Z",
          "shell.execute_reply.started": "2021-11-18T18:23:56.156187Z",
          "shell.execute_reply": "2021-11-18T18:23:56.177921Z"
        },
        "trusted": true,
        "colab": {
          "base_uri": "https://localhost:8080/"
        },
        "outputId": "421f144f-aff1-478b-cbed-0f33c4e7121f"
      },
      "source": [
        "df = df.drop_duplicates(keep=\"first\") # Drop duplicated data and reindex the data\n",
        "df_reidx = df.reset_index(drop=True)\n",
        "df_reidx.shape"
      ],
      "execution_count": 35,
      "outputs": [
        {
          "output_type": "execute_result",
          "data": {
            "text/plain": [
              "(19999, 2)"
            ]
          },
          "metadata": {},
          "execution_count": 35
        }
      ]
    },
    {
      "cell_type": "code",
      "metadata": {
        "id": "K_Z9aL_vm5f9",
        "execution": {
          "iopub.status.busy": "2021-11-18T18:23:56.180922Z",
          "iopub.execute_input": "2021-11-18T18:23:56.181161Z",
          "iopub.status.idle": "2021-11-18T18:23:56.200630Z",
          "shell.execute_reply.started": "2021-11-18T18:23:56.181132Z",
          "shell.execute_reply": "2021-11-18T18:23:56.199390Z"
        },
        "trusted": true
      },
      "source": [
        "# convert the emotions to binary labels. love and joy emotions are \"not-stressed ==1\", and sadness, anger, fear, and surprise are \"stressed == 0\".\n",
        "df_reidx['label']=df_reidx['emotion'].replace({'joy': \"not-stressed\" , 'love': \"not-stressed\",'surprise': \"medium-stressed\" ,\n",
        "                                   'sadness': \"stressed\", 'anger': \"stressed\", 'fear': \"stressed\"})"
      ],
      "execution_count": 36,
      "outputs": []
    },
    {
      "cell_type": "code",
      "metadata": {
        "id": "jqlwmw4XbpjL",
        "execution": {
          "iopub.status.busy": "2021-11-18T18:23:56.201909Z",
          "iopub.execute_input": "2021-11-18T18:23:56.202277Z",
          "iopub.status.idle": "2021-11-18T18:23:56.211908Z",
          "shell.execute_reply.started": "2021-11-18T18:23:56.202248Z",
          "shell.execute_reply": "2021-11-18T18:23:56.211159Z"
        },
        "trusted": true,
        "colab": {
          "base_uri": "https://localhost:8080/"
        },
        "outputId": "19ccd41f-44e5-428c-8dc1-290262625c97"
      },
      "source": [
        "# check if pos and neg sentiments\n",
        "df_reidx.label.value_counts()"
      ],
      "execution_count": 37,
      "outputs": [
        {
          "output_type": "execute_result",
          "data": {
            "text/plain": [
              "stressed           10879\n",
              "not-stressed        8401\n",
              "medium-stressed      719\n",
              "Name: label, dtype: int64"
            ]
          },
          "metadata": {},
          "execution_count": 37
        }
      ]
    },
    {
      "cell_type": "code",
      "metadata": {
        "id": "YjHjxw4LdIsg",
        "execution": {
          "iopub.status.busy": "2021-11-18T18:23:56.213358Z",
          "iopub.execute_input": "2021-11-18T18:23:56.214017Z",
          "iopub.status.idle": "2021-11-18T18:23:56.248331Z",
          "shell.execute_reply.started": "2021-11-18T18:23:56.213967Z",
          "shell.execute_reply": "2021-11-18T18:23:56.247679Z"
        },
        "trusted": true,
        "colab": {
          "base_uri": "https://localhost:8080/"
        },
        "outputId": "dd471b65-522d-4cc4-c413-9d0fcd596a68"
      },
      "source": [
        "df_reidx['length'] = df_reidx['sentence'].apply(len) # number of characters\n",
        "df_reidx['length'].describe() # info()"
      ],
      "execution_count": 38,
      "outputs": [
        {
          "output_type": "execute_result",
          "data": {
            "text/plain": [
              "count    19999.000000\n",
              "mean        96.671784\n",
              "std         55.778779\n",
              "min          7.000000\n",
              "25%         53.000000\n",
              "50%         86.000000\n",
              "75%        129.000000\n",
              "max        300.000000\n",
              "Name: length, dtype: float64"
            ]
          },
          "metadata": {},
          "execution_count": 38
        }
      ]
    },
    {
      "cell_type": "code",
      "metadata": {
        "execution": {
          "iopub.status.busy": "2021-11-18T18:23:56.249297Z",
          "iopub.execute_input": "2021-11-18T18:23:56.250121Z",
          "iopub.status.idle": "2021-11-18T18:23:56.260505Z",
          "shell.execute_reply.started": "2021-11-18T18:23:56.250076Z",
          "shell.execute_reply": "2021-11-18T18:23:56.259546Z"
        },
        "trusted": true,
        "colab": {
          "base_uri": "https://localhost:8080/",
          "height": 206
        },
        "id": "zFlicA05VGAy",
        "outputId": "6ce91985-1edb-4b9e-ef6a-22fb432ce564"
      },
      "source": [
        "df_reidx.tail()"
      ],
      "execution_count": 39,
      "outputs": [
        {
          "output_type": "execute_result",
          "data": {
            "text/html": [
              "\n",
              "  <div id=\"df-51e4174c-611a-4c3e-89f1-7d8dc5ad1642\">\n",
              "    <div class=\"colab-df-container\">\n",
              "      <div>\n",
              "<style scoped>\n",
              "    .dataframe tbody tr th:only-of-type {\n",
              "        vertical-align: middle;\n",
              "    }\n",
              "\n",
              "    .dataframe tbody tr th {\n",
              "        vertical-align: top;\n",
              "    }\n",
              "\n",
              "    .dataframe thead th {\n",
              "        text-align: right;\n",
              "    }\n",
              "</style>\n",
              "<table border=\"1\" class=\"dataframe\">\n",
              "  <thead>\n",
              "    <tr style=\"text-align: right;\">\n",
              "      <th></th>\n",
              "      <th>sentence</th>\n",
              "      <th>emotion</th>\n",
              "      <th>label</th>\n",
              "      <th>length</th>\n",
              "    </tr>\n",
              "  </thead>\n",
              "  <tbody>\n",
              "    <tr>\n",
              "      <th>19994</th>\n",
              "      <td>im having ssa examination tomorrow in the morn...</td>\n",
              "      <td>sadness</td>\n",
              "      <td>stressed</td>\n",
              "      <td>191</td>\n",
              "    </tr>\n",
              "    <tr>\n",
              "      <th>19995</th>\n",
              "      <td>i constantly worry about their fight against n...</td>\n",
              "      <td>joy</td>\n",
              "      <td>not-stressed</td>\n",
              "      <td>173</td>\n",
              "    </tr>\n",
              "    <tr>\n",
              "      <th>19996</th>\n",
              "      <td>i feel its important to share this info for th...</td>\n",
              "      <td>joy</td>\n",
              "      <td>not-stressed</td>\n",
              "      <td>80</td>\n",
              "    </tr>\n",
              "    <tr>\n",
              "      <th>19997</th>\n",
              "      <td>i truly feel that if you are passionate enough...</td>\n",
              "      <td>joy</td>\n",
              "      <td>not-stressed</td>\n",
              "      <td>105</td>\n",
              "    </tr>\n",
              "    <tr>\n",
              "      <th>19998</th>\n",
              "      <td>i feel like i just wanna buy any cute make up ...</td>\n",
              "      <td>joy</td>\n",
              "      <td>not-stressed</td>\n",
              "      <td>74</td>\n",
              "    </tr>\n",
              "  </tbody>\n",
              "</table>\n",
              "</div>\n",
              "      <button class=\"colab-df-convert\" onclick=\"convertToInteractive('df-51e4174c-611a-4c3e-89f1-7d8dc5ad1642')\"\n",
              "              title=\"Convert this dataframe to an interactive table.\"\n",
              "              style=\"display:none;\">\n",
              "        \n",
              "  <svg xmlns=\"http://www.w3.org/2000/svg\" height=\"24px\"viewBox=\"0 0 24 24\"\n",
              "       width=\"24px\">\n",
              "    <path d=\"M0 0h24v24H0V0z\" fill=\"none\"/>\n",
              "    <path d=\"M18.56 5.44l.94 2.06.94-2.06 2.06-.94-2.06-.94-.94-2.06-.94 2.06-2.06.94zm-11 1L8.5 8.5l.94-2.06 2.06-.94-2.06-.94L8.5 2.5l-.94 2.06-2.06.94zm10 10l.94 2.06.94-2.06 2.06-.94-2.06-.94-.94-2.06-.94 2.06-2.06.94z\"/><path d=\"M17.41 7.96l-1.37-1.37c-.4-.4-.92-.59-1.43-.59-.52 0-1.04.2-1.43.59L10.3 9.45l-7.72 7.72c-.78.78-.78 2.05 0 2.83L4 21.41c.39.39.9.59 1.41.59.51 0 1.02-.2 1.41-.59l7.78-7.78 2.81-2.81c.8-.78.8-2.07 0-2.86zM5.41 20L4 18.59l7.72-7.72 1.47 1.35L5.41 20z\"/>\n",
              "  </svg>\n",
              "      </button>\n",
              "      \n",
              "  <style>\n",
              "    .colab-df-container {\n",
              "      display:flex;\n",
              "      flex-wrap:wrap;\n",
              "      gap: 12px;\n",
              "    }\n",
              "\n",
              "    .colab-df-convert {\n",
              "      background-color: #E8F0FE;\n",
              "      border: none;\n",
              "      border-radius: 50%;\n",
              "      cursor: pointer;\n",
              "      display: none;\n",
              "      fill: #1967D2;\n",
              "      height: 32px;\n",
              "      padding: 0 0 0 0;\n",
              "      width: 32px;\n",
              "    }\n",
              "\n",
              "    .colab-df-convert:hover {\n",
              "      background-color: #E2EBFA;\n",
              "      box-shadow: 0px 1px 2px rgba(60, 64, 67, 0.3), 0px 1px 3px 1px rgba(60, 64, 67, 0.15);\n",
              "      fill: #174EA6;\n",
              "    }\n",
              "\n",
              "    [theme=dark] .colab-df-convert {\n",
              "      background-color: #3B4455;\n",
              "      fill: #D2E3FC;\n",
              "    }\n",
              "\n",
              "    [theme=dark] .colab-df-convert:hover {\n",
              "      background-color: #434B5C;\n",
              "      box-shadow: 0px 1px 3px 1px rgba(0, 0, 0, 0.15);\n",
              "      filter: drop-shadow(0px 1px 2px rgba(0, 0, 0, 0.3));\n",
              "      fill: #FFFFFF;\n",
              "    }\n",
              "  </style>\n",
              "\n",
              "      <script>\n",
              "        const buttonEl =\n",
              "          document.querySelector('#df-51e4174c-611a-4c3e-89f1-7d8dc5ad1642 button.colab-df-convert');\n",
              "        buttonEl.style.display =\n",
              "          google.colab.kernel.accessAllowed ? 'block' : 'none';\n",
              "\n",
              "        async function convertToInteractive(key) {\n",
              "          const element = document.querySelector('#df-51e4174c-611a-4c3e-89f1-7d8dc5ad1642');\n",
              "          const dataTable =\n",
              "            await google.colab.kernel.invokeFunction('convertToInteractive',\n",
              "                                                     [key], {});\n",
              "          if (!dataTable) return;\n",
              "\n",
              "          const docLinkHtml = 'Like what you see? Visit the ' +\n",
              "            '<a target=\"_blank\" href=https://colab.research.google.com/notebooks/data_table.ipynb>data table notebook</a>'\n",
              "            + ' to learn more about interactive tables.';\n",
              "          element.innerHTML = '';\n",
              "          dataTable['output_type'] = 'display_data';\n",
              "          await google.colab.output.renderOutput(dataTable, element);\n",
              "          const docLink = document.createElement('div');\n",
              "          docLink.innerHTML = docLinkHtml;\n",
              "          element.appendChild(docLink);\n",
              "        }\n",
              "      </script>\n",
              "    </div>\n",
              "  </div>\n",
              "  "
            ],
            "text/plain": [
              "                                                sentence  ... length\n",
              "19994  im having ssa examination tomorrow in the morn...  ...    191\n",
              "19995  i constantly worry about their fight against n...  ...    173\n",
              "19996  i feel its important to share this info for th...  ...     80\n",
              "19997  i truly feel that if you are passionate enough...  ...    105\n",
              "19998  i feel like i just wanna buy any cute make up ...  ...     74\n",
              "\n",
              "[5 rows x 4 columns]"
            ]
          },
          "metadata": {},
          "execution_count": 39
        }
      ]
    },
    {
      "cell_type": "markdown",
      "metadata": {
        "id": "KptVLKp2dtfr"
      },
      "source": [
        "# Text Preprocessing\n",
        "#### To clean the sentences,we do text preprocessing."
      ]
    },
    {
      "cell_type": "markdown",
      "metadata": {
        "id": "UX36yQrhd35L"
      },
      "source": [
        "*   Decontracted\n",
        "*   Data cleaning\n",
        "Additionally,\n",
        "*   Spell check\n",
        "*   Lemmatization\n",
        "*   Nomalization\n",
        "\n",
        "\n",
        "\n"
      ]
    },
    {
      "cell_type": "code",
      "metadata": {
        "id": "RTfGwvFpes_X",
        "execution": {
          "iopub.status.busy": "2021-11-18T18:23:56.262448Z",
          "iopub.execute_input": "2021-11-18T18:23:56.263088Z",
          "iopub.status.idle": "2021-11-18T18:24:02.378316Z",
          "shell.execute_reply.started": "2021-11-18T18:23:56.263042Z",
          "shell.execute_reply": "2021-11-18T18:24:02.377378Z"
        },
        "trusted": true,
        "colab": {
          "base_uri": "https://localhost:8080/",
          "height": 223
        },
        "outputId": "7541aa0a-5a6f-4805-e550-af3c6fc0bb8f"
      },
      "source": [
        "from tqdm import tqdm\n",
        "import re\n",
        "from bs4 import BeautifulSoup\n",
        "from nltk.stem import PorterStemmer\n",
        "from nltk.stem import WordNetLemmatizer\n",
        "\n",
        "def decontracted(phrase):\n",
        "    \"\"\"\n",
        "    We first define a function to expand the contracted phrase into normal words\n",
        "    \"\"\"\n",
        "    # specific\n",
        "    phrase = re.sub(r\"wont\", \"will not\", phrase)\n",
        "    phrase = re.sub(r\"wouldnt\", \"would not\", phrase)\n",
        "    phrase = re.sub(r\"shouldnt\", \"should not\", phrase)\n",
        "    phrase = re.sub(r\"couldnt\", \"could not\", phrase)\n",
        "    phrase = re.sub(r\"cudnt\", \"could not\", phrase)\n",
        "    phrase = re.sub(r\"cant\", \"can not\", phrase)\n",
        "    phrase = re.sub(r\"dont\", \"do not\", phrase)\n",
        "    phrase = re.sub(r\"doesnt\", \"does not\", phrase)\n",
        "    phrase = re.sub(r\"didnt\", \"did not\", phrase)\n",
        "    phrase = re.sub(r\"wasnt\", \"was not\", phrase)\n",
        "    phrase = re.sub(r\"werent\", \"were not\", phrase)\n",
        "    phrase = re.sub(r\"havent\", \"have not\", phrase)\n",
        "    phrase = re.sub(r\"hadnt\", \"had not\", phrase)\n",
        "\n",
        "    # general\n",
        "    phrase = re.sub(r\"n\\ t\", \" not\", phrase)\n",
        "    #phrase = re.sub(r\"\\re\", \" are\", phrase)\n",
        "    phrase = re.sub(r\"\\ s \", \" is \", phrase) # prime \n",
        "    phrase = re.sub(r\"\\ d \", \" would \", phrase)\n",
        "    phrase = re.sub(r\"\\ ll \", \" will \", phrase)\n",
        "    phrase = re.sub(r\"\\dunno\", \"do not \", phrase)\n",
        "    phrase = re.sub(r\"ive \", \"i have \", phrase)\n",
        "    phrase = re.sub(r\"im \", \"i am \", phrase)\n",
        "    phrase = re.sub(r\"i m \", \"i am \", phrase)\n",
        "    phrase = re.sub(r\" w \", \" with \", phrase)\n",
        "    \n",
        "    return phrase\n",
        "\n",
        "    \n",
        "def clean_text(df):\n",
        "    \"\"\"\n",
        "    Clean the review texts\n",
        "    \"\"\"\n",
        "    cleaned_review = []\n",
        "\n",
        "    for review_text in tqdm(df['sentence']):\n",
        "        \n",
        "        # expand the contracted words\n",
        "        review_text = decontracted(review_text)\n",
        "        #remove html tags\n",
        "        review_text = BeautifulSoup(review_text, 'lxml').get_text().strip() # re.sub(r'<.*?>', '', text)\n",
        "        \n",
        "        #remove non-alphabetic characters\n",
        "        review_text = re.sub(\"[^a-zA-Z]\",\" \", review_text)\n",
        "    \n",
        "        #remove url \n",
        "        review_text = re.sub(r'https?://\\S+|www\\.\\S+', '', review_text)\n",
        "        \n",
        "        #Removing punctutation, string.punctuation in python consists of !\"#$%&\\'()*+,-./:;<=>?@[\\\\]^_{|}~`\n",
        "        review_text = review_text.translate(str.maketrans('', '', string.punctuation))\n",
        "        # ''.join([char for char in movie_text_data if char not in string.punctuation])\n",
        "        \n",
        "        # remove emails\n",
        "        review_text = re.sub(r\"(^[a-zA-Z0-9_.+-]+@[a-zA-Z0-9-]+\\.[a-zA-Z0-9-.]+$)\", '', review_text)\n",
        "    \n",
        "        cleaned_review.append(review_text)\n",
        "\n",
        "    return cleaned_review  \n",
        "\n",
        "df_reidx['cleaned_sentence'] = clean_text(df_reidx)\n",
        "df_reidx.head()  "
      ],
      "execution_count": 40,
      "outputs": [
        {
          "output_type": "stream",
          "name": "stderr",
          "text": [
            "100%|██████████| 19999/19999 [00:06<00:00, 3123.19it/s]\n"
          ]
        },
        {
          "output_type": "execute_result",
          "data": {
            "text/html": [
              "\n",
              "  <div id=\"df-670a693d-6a64-457c-a49c-d91cee70caf6\">\n",
              "    <div class=\"colab-df-container\">\n",
              "      <div>\n",
              "<style scoped>\n",
              "    .dataframe tbody tr th:only-of-type {\n",
              "        vertical-align: middle;\n",
              "    }\n",
              "\n",
              "    .dataframe tbody tr th {\n",
              "        vertical-align: top;\n",
              "    }\n",
              "\n",
              "    .dataframe thead th {\n",
              "        text-align: right;\n",
              "    }\n",
              "</style>\n",
              "<table border=\"1\" class=\"dataframe\">\n",
              "  <thead>\n",
              "    <tr style=\"text-align: right;\">\n",
              "      <th></th>\n",
              "      <th>sentence</th>\n",
              "      <th>emotion</th>\n",
              "      <th>label</th>\n",
              "      <th>length</th>\n",
              "      <th>cleaned_sentence</th>\n",
              "    </tr>\n",
              "  </thead>\n",
              "  <tbody>\n",
              "    <tr>\n",
              "      <th>0</th>\n",
              "      <td>i didnt feel humiliated</td>\n",
              "      <td>sadness</td>\n",
              "      <td>stressed</td>\n",
              "      <td>23</td>\n",
              "      <td>i did not feel humiliated</td>\n",
              "    </tr>\n",
              "    <tr>\n",
              "      <th>1</th>\n",
              "      <td>i can go from feeling so hopeless to so damned...</td>\n",
              "      <td>sadness</td>\n",
              "      <td>stressed</td>\n",
              "      <td>108</td>\n",
              "      <td>i can go from feeling so hopeless to so damned...</td>\n",
              "    </tr>\n",
              "    <tr>\n",
              "      <th>2</th>\n",
              "      <td>im grabbing a minute to post i feel greedy wrong</td>\n",
              "      <td>anger</td>\n",
              "      <td>stressed</td>\n",
              "      <td>48</td>\n",
              "      <td>i am grabbing a minute to post i feel greedy w...</td>\n",
              "    </tr>\n",
              "    <tr>\n",
              "      <th>3</th>\n",
              "      <td>i am ever feeling nostalgic about the fireplac...</td>\n",
              "      <td>love</td>\n",
              "      <td>not-stressed</td>\n",
              "      <td>92</td>\n",
              "      <td>i am ever feeling nostalgic about the fireplac...</td>\n",
              "    </tr>\n",
              "    <tr>\n",
              "      <th>4</th>\n",
              "      <td>i am feeling grouchy</td>\n",
              "      <td>anger</td>\n",
              "      <td>stressed</td>\n",
              "      <td>20</td>\n",
              "      <td>i am feeling grouchy</td>\n",
              "    </tr>\n",
              "  </tbody>\n",
              "</table>\n",
              "</div>\n",
              "      <button class=\"colab-df-convert\" onclick=\"convertToInteractive('df-670a693d-6a64-457c-a49c-d91cee70caf6')\"\n",
              "              title=\"Convert this dataframe to an interactive table.\"\n",
              "              style=\"display:none;\">\n",
              "        \n",
              "  <svg xmlns=\"http://www.w3.org/2000/svg\" height=\"24px\"viewBox=\"0 0 24 24\"\n",
              "       width=\"24px\">\n",
              "    <path d=\"M0 0h24v24H0V0z\" fill=\"none\"/>\n",
              "    <path d=\"M18.56 5.44l.94 2.06.94-2.06 2.06-.94-2.06-.94-.94-2.06-.94 2.06-2.06.94zm-11 1L8.5 8.5l.94-2.06 2.06-.94-2.06-.94L8.5 2.5l-.94 2.06-2.06.94zm10 10l.94 2.06.94-2.06 2.06-.94-2.06-.94-.94-2.06-.94 2.06-2.06.94z\"/><path d=\"M17.41 7.96l-1.37-1.37c-.4-.4-.92-.59-1.43-.59-.52 0-1.04.2-1.43.59L10.3 9.45l-7.72 7.72c-.78.78-.78 2.05 0 2.83L4 21.41c.39.39.9.59 1.41.59.51 0 1.02-.2 1.41-.59l7.78-7.78 2.81-2.81c.8-.78.8-2.07 0-2.86zM5.41 20L4 18.59l7.72-7.72 1.47 1.35L5.41 20z\"/>\n",
              "  </svg>\n",
              "      </button>\n",
              "      \n",
              "  <style>\n",
              "    .colab-df-container {\n",
              "      display:flex;\n",
              "      flex-wrap:wrap;\n",
              "      gap: 12px;\n",
              "    }\n",
              "\n",
              "    .colab-df-convert {\n",
              "      background-color: #E8F0FE;\n",
              "      border: none;\n",
              "      border-radius: 50%;\n",
              "      cursor: pointer;\n",
              "      display: none;\n",
              "      fill: #1967D2;\n",
              "      height: 32px;\n",
              "      padding: 0 0 0 0;\n",
              "      width: 32px;\n",
              "    }\n",
              "\n",
              "    .colab-df-convert:hover {\n",
              "      background-color: #E2EBFA;\n",
              "      box-shadow: 0px 1px 2px rgba(60, 64, 67, 0.3), 0px 1px 3px 1px rgba(60, 64, 67, 0.15);\n",
              "      fill: #174EA6;\n",
              "    }\n",
              "\n",
              "    [theme=dark] .colab-df-convert {\n",
              "      background-color: #3B4455;\n",
              "      fill: #D2E3FC;\n",
              "    }\n",
              "\n",
              "    [theme=dark] .colab-df-convert:hover {\n",
              "      background-color: #434B5C;\n",
              "      box-shadow: 0px 1px 3px 1px rgba(0, 0, 0, 0.15);\n",
              "      filter: drop-shadow(0px 1px 2px rgba(0, 0, 0, 0.3));\n",
              "      fill: #FFFFFF;\n",
              "    }\n",
              "  </style>\n",
              "\n",
              "      <script>\n",
              "        const buttonEl =\n",
              "          document.querySelector('#df-670a693d-6a64-457c-a49c-d91cee70caf6 button.colab-df-convert');\n",
              "        buttonEl.style.display =\n",
              "          google.colab.kernel.accessAllowed ? 'block' : 'none';\n",
              "\n",
              "        async function convertToInteractive(key) {\n",
              "          const element = document.querySelector('#df-670a693d-6a64-457c-a49c-d91cee70caf6');\n",
              "          const dataTable =\n",
              "            await google.colab.kernel.invokeFunction('convertToInteractive',\n",
              "                                                     [key], {});\n",
              "          if (!dataTable) return;\n",
              "\n",
              "          const docLinkHtml = 'Like what you see? Visit the ' +\n",
              "            '<a target=\"_blank\" href=https://colab.research.google.com/notebooks/data_table.ipynb>data table notebook</a>'\n",
              "            + ' to learn more about interactive tables.';\n",
              "          element.innerHTML = '';\n",
              "          dataTable['output_type'] = 'display_data';\n",
              "          await google.colab.output.renderOutput(dataTable, element);\n",
              "          const docLink = document.createElement('div');\n",
              "          docLink.innerHTML = docLinkHtml;\n",
              "          element.appendChild(docLink);\n",
              "        }\n",
              "      </script>\n",
              "    </div>\n",
              "  </div>\n",
              "  "
            ],
            "text/plain": [
              "                                            sentence  ...                                   cleaned_sentence\n",
              "0                            i didnt feel humiliated  ...                          i did not feel humiliated\n",
              "1  i can go from feeling so hopeless to so damned...  ...  i can go from feeling so hopeless to so damned...\n",
              "2   im grabbing a minute to post i feel greedy wrong  ...  i am grabbing a minute to post i feel greedy w...\n",
              "3  i am ever feeling nostalgic about the fireplac...  ...  i am ever feeling nostalgic about the fireplac...\n",
              "4                               i am feeling grouchy  ...                               i am feeling grouchy\n",
              "\n",
              "[5 rows x 5 columns]"
            ]
          },
          "metadata": {},
          "execution_count": 40
        }
      ]
    },
    {
      "cell_type": "markdown",
      "metadata": {
        "id": "NWRKxc1vECx0"
      },
      "source": [
        "###### additional lemmatization"
      ]
    },
    {
      "cell_type": "code",
      "metadata": {
        "execution": {
          "iopub.status.busy": "2021-11-18T18:24:02.379581Z",
          "iopub.execute_input": "2021-11-18T18:24:02.379853Z",
          "iopub.status.idle": "2021-11-18T18:24:07.923672Z",
          "shell.execute_reply.started": "2021-11-18T18:24:02.379819Z",
          "shell.execute_reply": "2021-11-18T18:24:07.922661Z"
        },
        "trusted": true,
        "colab": {
          "base_uri": "https://localhost:8080/",
          "height": 258
        },
        "id": "sNgR75EbVGA1",
        "outputId": "92f6d1c5-c492-4342-b3ff-2eb4661cedcf"
      },
      "source": [
        "import nltk\n",
        "nltk.download('punkt')\n",
        "def remove_stopwords(phrase):\n",
        "    remove_sw = []\n",
        "    tokenizer = RegexpTokenizer(r'[a-zA-Z0-9]+')\n",
        "    stop_words = stopwords.words('english')\n",
        "    \n",
        "    for review_text in tqdm(phrase):\n",
        "        tokens = word_tokenize(review_text)\n",
        "        tokens = [word for word in tokens if not word in stop_words]\n",
        "        remove_sw.append(tokens)\n",
        "    return remove_sw\n",
        "\n",
        "df_reidx['cleaned_sentence'] = remove_stopwords(df_reidx['cleaned_sentence'])\n",
        "df_reidx.head()"
      ],
      "execution_count": 41,
      "outputs": [
        {
          "output_type": "stream",
          "name": "stdout",
          "text": [
            "[nltk_data] Downloading package punkt to /root/nltk_data...\n",
            "[nltk_data]   Package punkt is already up-to-date!\n"
          ]
        },
        {
          "output_type": "stream",
          "name": "stderr",
          "text": [
            "100%|██████████| 19999/19999 [00:03<00:00, 5043.81it/s]\n"
          ]
        },
        {
          "output_type": "execute_result",
          "data": {
            "text/html": [
              "\n",
              "  <div id=\"df-d73daab4-040d-4b10-b9b6-0fc157b8badd\">\n",
              "    <div class=\"colab-df-container\">\n",
              "      <div>\n",
              "<style scoped>\n",
              "    .dataframe tbody tr th:only-of-type {\n",
              "        vertical-align: middle;\n",
              "    }\n",
              "\n",
              "    .dataframe tbody tr th {\n",
              "        vertical-align: top;\n",
              "    }\n",
              "\n",
              "    .dataframe thead th {\n",
              "        text-align: right;\n",
              "    }\n",
              "</style>\n",
              "<table border=\"1\" class=\"dataframe\">\n",
              "  <thead>\n",
              "    <tr style=\"text-align: right;\">\n",
              "      <th></th>\n",
              "      <th>sentence</th>\n",
              "      <th>emotion</th>\n",
              "      <th>label</th>\n",
              "      <th>length</th>\n",
              "      <th>cleaned_sentence</th>\n",
              "    </tr>\n",
              "  </thead>\n",
              "  <tbody>\n",
              "    <tr>\n",
              "      <th>0</th>\n",
              "      <td>i didnt feel humiliated</td>\n",
              "      <td>sadness</td>\n",
              "      <td>stressed</td>\n",
              "      <td>23</td>\n",
              "      <td>[feel, humiliated]</td>\n",
              "    </tr>\n",
              "    <tr>\n",
              "      <th>1</th>\n",
              "      <td>i can go from feeling so hopeless to so damned...</td>\n",
              "      <td>sadness</td>\n",
              "      <td>stressed</td>\n",
              "      <td>108</td>\n",
              "      <td>[go, feeling, hopeless, damned, hopeful, aroun...</td>\n",
              "    </tr>\n",
              "    <tr>\n",
              "      <th>2</th>\n",
              "      <td>im grabbing a minute to post i feel greedy wrong</td>\n",
              "      <td>anger</td>\n",
              "      <td>stressed</td>\n",
              "      <td>48</td>\n",
              "      <td>[grabbing, minute, post, feel, greedy, wrong]</td>\n",
              "    </tr>\n",
              "    <tr>\n",
              "      <th>3</th>\n",
              "      <td>i am ever feeling nostalgic about the fireplac...</td>\n",
              "      <td>love</td>\n",
              "      <td>not-stressed</td>\n",
              "      <td>92</td>\n",
              "      <td>[ever, feeling, nostalgic, fireplace, know, st...</td>\n",
              "    </tr>\n",
              "    <tr>\n",
              "      <th>4</th>\n",
              "      <td>i am feeling grouchy</td>\n",
              "      <td>anger</td>\n",
              "      <td>stressed</td>\n",
              "      <td>20</td>\n",
              "      <td>[feeling, grouchy]</td>\n",
              "    </tr>\n",
              "  </tbody>\n",
              "</table>\n",
              "</div>\n",
              "      <button class=\"colab-df-convert\" onclick=\"convertToInteractive('df-d73daab4-040d-4b10-b9b6-0fc157b8badd')\"\n",
              "              title=\"Convert this dataframe to an interactive table.\"\n",
              "              style=\"display:none;\">\n",
              "        \n",
              "  <svg xmlns=\"http://www.w3.org/2000/svg\" height=\"24px\"viewBox=\"0 0 24 24\"\n",
              "       width=\"24px\">\n",
              "    <path d=\"M0 0h24v24H0V0z\" fill=\"none\"/>\n",
              "    <path d=\"M18.56 5.44l.94 2.06.94-2.06 2.06-.94-2.06-.94-.94-2.06-.94 2.06-2.06.94zm-11 1L8.5 8.5l.94-2.06 2.06-.94-2.06-.94L8.5 2.5l-.94 2.06-2.06.94zm10 10l.94 2.06.94-2.06 2.06-.94-2.06-.94-.94-2.06-.94 2.06-2.06.94z\"/><path d=\"M17.41 7.96l-1.37-1.37c-.4-.4-.92-.59-1.43-.59-.52 0-1.04.2-1.43.59L10.3 9.45l-7.72 7.72c-.78.78-.78 2.05 0 2.83L4 21.41c.39.39.9.59 1.41.59.51 0 1.02-.2 1.41-.59l7.78-7.78 2.81-2.81c.8-.78.8-2.07 0-2.86zM5.41 20L4 18.59l7.72-7.72 1.47 1.35L5.41 20z\"/>\n",
              "  </svg>\n",
              "      </button>\n",
              "      \n",
              "  <style>\n",
              "    .colab-df-container {\n",
              "      display:flex;\n",
              "      flex-wrap:wrap;\n",
              "      gap: 12px;\n",
              "    }\n",
              "\n",
              "    .colab-df-convert {\n",
              "      background-color: #E8F0FE;\n",
              "      border: none;\n",
              "      border-radius: 50%;\n",
              "      cursor: pointer;\n",
              "      display: none;\n",
              "      fill: #1967D2;\n",
              "      height: 32px;\n",
              "      padding: 0 0 0 0;\n",
              "      width: 32px;\n",
              "    }\n",
              "\n",
              "    .colab-df-convert:hover {\n",
              "      background-color: #E2EBFA;\n",
              "      box-shadow: 0px 1px 2px rgba(60, 64, 67, 0.3), 0px 1px 3px 1px rgba(60, 64, 67, 0.15);\n",
              "      fill: #174EA6;\n",
              "    }\n",
              "\n",
              "    [theme=dark] .colab-df-convert {\n",
              "      background-color: #3B4455;\n",
              "      fill: #D2E3FC;\n",
              "    }\n",
              "\n",
              "    [theme=dark] .colab-df-convert:hover {\n",
              "      background-color: #434B5C;\n",
              "      box-shadow: 0px 1px 3px 1px rgba(0, 0, 0, 0.15);\n",
              "      filter: drop-shadow(0px 1px 2px rgba(0, 0, 0, 0.3));\n",
              "      fill: #FFFFFF;\n",
              "    }\n",
              "  </style>\n",
              "\n",
              "      <script>\n",
              "        const buttonEl =\n",
              "          document.querySelector('#df-d73daab4-040d-4b10-b9b6-0fc157b8badd button.colab-df-convert');\n",
              "        buttonEl.style.display =\n",
              "          google.colab.kernel.accessAllowed ? 'block' : 'none';\n",
              "\n",
              "        async function convertToInteractive(key) {\n",
              "          const element = document.querySelector('#df-d73daab4-040d-4b10-b9b6-0fc157b8badd');\n",
              "          const dataTable =\n",
              "            await google.colab.kernel.invokeFunction('convertToInteractive',\n",
              "                                                     [key], {});\n",
              "          if (!dataTable) return;\n",
              "\n",
              "          const docLinkHtml = 'Like what you see? Visit the ' +\n",
              "            '<a target=\"_blank\" href=https://colab.research.google.com/notebooks/data_table.ipynb>data table notebook</a>'\n",
              "            + ' to learn more about interactive tables.';\n",
              "          element.innerHTML = '';\n",
              "          dataTable['output_type'] = 'display_data';\n",
              "          await google.colab.output.renderOutput(dataTable, element);\n",
              "          const docLink = document.createElement('div');\n",
              "          docLink.innerHTML = docLinkHtml;\n",
              "          element.appendChild(docLink);\n",
              "        }\n",
              "      </script>\n",
              "    </div>\n",
              "  </div>\n",
              "  "
            ],
            "text/plain": [
              "                                            sentence  ...                                   cleaned_sentence\n",
              "0                            i didnt feel humiliated  ...                                 [feel, humiliated]\n",
              "1  i can go from feeling so hopeless to so damned...  ...  [go, feeling, hopeless, damned, hopeful, aroun...\n",
              "2   im grabbing a minute to post i feel greedy wrong  ...      [grabbing, minute, post, feel, greedy, wrong]\n",
              "3  i am ever feeling nostalgic about the fireplac...  ...  [ever, feeling, nostalgic, fireplace, know, st...\n",
              "4                               i am feeling grouchy  ...                                 [feeling, grouchy]\n",
              "\n",
              "[5 rows x 5 columns]"
            ]
          },
          "metadata": {},
          "execution_count": 41
        }
      ]
    },
    {
      "cell_type": "code",
      "metadata": {
        "id": "UdFbKacIgGU_",
        "execution": {
          "iopub.status.busy": "2021-11-18T18:24:07.924974Z",
          "iopub.execute_input": "2021-11-18T18:24:07.925313Z",
          "iopub.status.idle": "2021-11-18T18:24:14.241881Z",
          "shell.execute_reply.started": "2021-11-18T18:24:07.925281Z",
          "shell.execute_reply": "2021-11-18T18:24:14.240825Z"
        },
        "trusted": true,
        "colab": {
          "base_uri": "https://localhost:8080/"
        },
        "outputId": "fc0941d7-703a-4fef-c753-40a1092f5dea"
      },
      "source": [
        "#stemming for extract the actual meaning of the words\n",
        "from nltk.stem import PorterStemmer\n",
        "\n",
        "def stemming(phrase):\n",
        "    stemmer = PorterStemmer()\n",
        "    stem_output=[]\n",
        "    stemmed=[]\n",
        "    for review_text in tqdm(phrase):\n",
        "        stemmed = [stemmer.stem(word) for word in review_text]\n",
        "        stem_output.append(stemmed)\n",
        "    return stem_output\n",
        "\n",
        "df_reidx['cleaned_sentence'] = stemming(df_reidx['cleaned_sentence'])\n",
        "df_reidx['cleaned_sentence'].head()"
      ],
      "execution_count": 42,
      "outputs": [
        {
          "output_type": "stream",
          "name": "stderr",
          "text": [
            "100%|██████████| 19999/19999 [00:05<00:00, 3597.96it/s]\n"
          ]
        },
        {
          "output_type": "execute_result",
          "data": {
            "text/plain": [
              "0                                       [feel, humili]\n",
              "1    [go, feel, hopeless, damn, hope, around, someo...\n",
              "2             [grab, minut, post, feel, greedi, wrong]\n",
              "3    [ever, feel, nostalg, fireplac, know, still, n...\n",
              "4                                      [feel, grouchi]\n",
              "Name: cleaned_sentence, dtype: object"
            ]
          },
          "metadata": {},
          "execution_count": 42
        }
      ]
    },
    {
      "cell_type": "code",
      "metadata": {
        "execution": {
          "iopub.status.busy": "2021-11-18T18:24:14.243398Z",
          "iopub.execute_input": "2021-11-18T18:24:14.243757Z",
          "iopub.status.idle": "2021-11-18T18:24:14.294784Z",
          "shell.execute_reply.started": "2021-11-18T18:24:14.243711Z",
          "shell.execute_reply": "2021-11-18T18:24:14.293755Z"
        },
        "trusted": true,
        "colab": {
          "base_uri": "https://localhost:8080/"
        },
        "id": "zDHtFBENVGA1",
        "outputId": "ba1b8c55-704b-4fa3-ca62-ef88b9b555d7"
      },
      "source": [
        "def to_sentence(phrase):\n",
        "    sentence=[]\n",
        "    for words in tqdm(phrase):\n",
        "        sentence.append((\" \").join(words))\n",
        "    return sentence\n",
        "df_reidx['cleaned_sentence']=to_sentence(df_reidx['cleaned_sentence'])\n",
        "df_reidx['cleaned_sentence'].head()"
      ],
      "execution_count": 43,
      "outputs": [
        {
          "output_type": "stream",
          "name": "stderr",
          "text": [
            "100%|██████████| 19999/19999 [00:00<00:00, 566467.13it/s]\n"
          ]
        },
        {
          "output_type": "execute_result",
          "data": {
            "text/plain": [
              "0                                          feel humili\n",
              "1    go feel hopeless damn hope around someon care ...\n",
              "2                    grab minut post feel greedi wrong\n",
              "3    ever feel nostalg fireplac know still noth pro...\n",
              "4                                         feel grouchi\n",
              "Name: cleaned_sentence, dtype: object"
            ]
          },
          "metadata": {},
          "execution_count": 43
        }
      ]
    },
    {
      "cell_type": "markdown",
      "metadata": {
        "id": "tt6Tbl3xlBhE"
      },
      "source": [
        "# Feature Engineering"
      ]
    },
    {
      "cell_type": "markdown",
      "metadata": {
        "id": "Ln-1lwjhlfS7"
      },
      "source": [
        "### CounterVectorize: tokenization: "
      ]
    },
    {
      "cell_type": "code",
      "metadata": {
        "id": "jT3nRcj9v-mL",
        "execution": {
          "iopub.status.busy": "2021-11-18T18:24:14.296226Z",
          "iopub.execute_input": "2021-11-18T18:24:14.296530Z",
          "iopub.status.idle": "2021-11-18T18:24:14.633662Z",
          "shell.execute_reply.started": "2021-11-18T18:24:14.296489Z",
          "shell.execute_reply": "2021-11-18T18:24:14.633004Z"
        },
        "trusted": true,
        "colab": {
          "base_uri": "https://localhost:8080/"
        },
        "outputId": "e8c4a3bd-a29f-49f3-9d0c-e9f37bab5d62"
      },
      "source": [
        "# convert the cleaned sentences to vectors\n",
        "token = RegexpTokenizer(r'[a-zA-Z0-9]+')\n",
        "# a built-in stop word list for english is used\n",
        "# all values of n such than min_n<=n<= max_n will be used. (1,1): only unigrams, (1,2):uni&bigram, (2,2): only bigrams\n",
        "# max_df: when building the vocabulary, ignore terms that have a document frequency strictly higher than the given threshold.\n",
        "# min_df: ignore terms that have a document frequency strictly lower than the given threshold.\n",
        "\n",
        "vectorizer = CountVectorizer(stop_words='english', max_df=0.5, min_df=3, ngram_range=(1,1),tokenizer = token.tokenize)\n",
        "x = vectorizer.fit_transform(df_reidx.cleaned_sentence)\n",
        "y = df_reidx.label.values\n",
        "\n",
        "print(\"X.shape : \",x.shape)\n",
        "print(\"y.shape : \",y.shape)"
      ],
      "execution_count": 44,
      "outputs": [
        {
          "output_type": "stream",
          "name": "stdout",
          "text": [
            "X.shape :  (19999, 4374)\n",
            "y.shape :  (19999,)\n"
          ]
        }
      ]
    },
    {
      "cell_type": "markdown",
      "metadata": {
        "id": "l1kNPsDNm_f4"
      },
      "source": [
        "# Train Test split\n",
        "\n",
        "```\n",
        "# This is formatted as code\n",
        "```\n",
        "\n"
      ]
    },
    {
      "cell_type": "code",
      "metadata": {
        "id": "OqtP1s3WnOEj",
        "execution": {
          "iopub.status.busy": "2021-11-18T18:24:14.636715Z",
          "iopub.execute_input": "2021-11-18T18:24:14.637625Z",
          "iopub.status.idle": "2021-11-18T18:24:14.648637Z",
          "shell.execute_reply.started": "2021-11-18T18:24:14.637563Z",
          "shell.execute_reply": "2021-11-18T18:24:14.647971Z"
        },
        "trusted": true,
        "colab": {
          "base_uri": "https://localhost:8080/"
        },
        "outputId": "b7cf7a94-54ca-466e-ad18-b4687ad75438"
      },
      "source": [
        "# do shuffle to make neg and pos data of data set split equaly in the test and training set\n",
        "# do random_sate for making it settle when we run this code repeatedly\n",
        "train_idx, test_idx = train_test_split(np.arange(df_reidx.shape[0]), test_size=0.3,shuffle=True, random_state=42)\n",
        "\n",
        "x_train = x[train_idx]\n",
        "y_train = y[train_idx]\n",
        "\n",
        "x_test = x[test_idx]\n",
        "y_test = y[test_idx]\n",
        "print(\"Number of training examples:{}\".format(len(train_idx)))\n",
        "print(\"Number of testing examples:{}\\n\".format(len(test_idx)))\n",
        "print(\"Training data: X_train : {}, y_train : {}\".format(x_train.shape, y_train.shape))\n",
        "print(\"Testing data: X_test : {}, y_test : {}\".format(x_test.shape, y_test.shape))\n"
      ],
      "execution_count": 45,
      "outputs": [
        {
          "output_type": "stream",
          "name": "stdout",
          "text": [
            "Number of training examples:13999\n",
            "Number of testing examples:6000\n",
            "\n",
            "Training data: X_train : (13999, 4374), y_train : (13999,)\n",
            "Testing data: X_test : (6000, 4374), y_test : (6000,)\n"
          ]
        }
      ]
    },
    {
      "cell_type": "code",
      "metadata": {
        "execution": {
          "iopub.status.busy": "2021-11-18T18:24:14.649523Z",
          "iopub.execute_input": "2021-11-18T18:24:14.650263Z",
          "iopub.status.idle": "2021-11-18T18:24:14.660256Z",
          "shell.execute_reply.started": "2021-11-18T18:24:14.650215Z",
          "shell.execute_reply": "2021-11-18T18:24:14.659728Z"
        },
        "trusted": true,
        "colab": {
          "base_uri": "https://localhost:8080/"
        },
        "id": "v1YE9wUuVGA3",
        "outputId": "48a0ee5c-c576-4d64-e984-da6be0e7c549"
      },
      "source": [
        "x_train.shape"
      ],
      "execution_count": 46,
      "outputs": [
        {
          "output_type": "execute_result",
          "data": {
            "text/plain": [
              "(13999, 4374)"
            ]
          },
          "metadata": {},
          "execution_count": 46
        }
      ]
    },
    {
      "cell_type": "markdown",
      "metadata": {
        "id": "m1fK2NLdzysQ"
      },
      "source": [
        "# Model Training"
      ]
    },
    {
      "cell_type": "markdown",
      "metadata": {
        "id": "Dwtb2azVm2U8"
      },
      "source": [
        "#### Logistic Regression"
      ]
    },
    {
      "cell_type": "code",
      "metadata": {
        "id": "2gfpybeIm7NX",
        "execution": {
          "iopub.status.busy": "2021-11-18T18:24:14.661308Z",
          "iopub.execute_input": "2021-11-18T18:24:14.661670Z",
          "iopub.status.idle": "2021-11-18T18:24:14.966958Z",
          "shell.execute_reply.started": "2021-11-18T18:24:14.661626Z",
          "shell.execute_reply": "2021-11-18T18:24:14.966024Z"
        },
        "trusted": true,
        "colab": {
          "base_uri": "https://localhost:8080/",
          "height": 522
        },
        "outputId": "760a6d44-d3b4-4e1c-aad4-91e5a2239ff0"
      },
      "source": [
        "# fit a logistic regression classifier on the training data use default settings\n",
        "lr_clf = LogisticRegression()\n",
        "lr_clf.fit(x_train, y_train)\n",
        "\n",
        "# make prediction on testing data\n",
        "y_pred_test_lr = lr_clf.predict(x_test)\n",
        "y_predprob_lr = lr_clf.predict_proba(x_test)\n",
        "matrix_lr = confusion_matrix(y_test,y_pred_test_lr)\n",
        "print(classification_report(y_test, y_pred_test_lr))\n",
        "print(\"\\nAccuracy for Logistic Regression model:\",metrics.accuracy_score(y_test, y_pred_test_lr))\n",
        "print(\"\\n\")\n",
        "y_predict = lr_clf.predict(x_test)\n",
        "matrix_display = ConfusionMatrixDisplay(matrix_lr).plot()"
      ],
      "execution_count": 47,
      "outputs": [
        {
          "output_type": "stream",
          "name": "stdout",
          "text": [
            "                 precision    recall  f1-score   support\n",
            "\n",
            "medium-stressed       0.70      0.68      0.69       226\n",
            "   not-stressed       0.94      0.93      0.94      2491\n",
            "       stressed       0.94      0.95      0.95      3283\n",
            "\n",
            "       accuracy                           0.93      6000\n",
            "      macro avg       0.86      0.85      0.86      6000\n",
            "   weighted avg       0.93      0.93      0.93      6000\n",
            "\n",
            "\n",
            "Accuracy for Logistic Regression model: 0.9325\n",
            "\n",
            "\n"
          ]
        },
        {
          "output_type": "display_data",
          "data": {
            "image/png": "[encoded data removed]",
            "text/plain": [
              "<Figure size 432x288 with 2 Axes>"
            ]
          },
          "metadata": {
            "needs_background": "light"
          }
        }
      ]
    },
    {
      "cell_type": "markdown",
      "metadata": {
        "id": "IdXsV5VK78nt"
      },
      "source": [
        "#### Naive Bayes classifier"
      ]
    },
    {
      "cell_type": "markdown",
      "metadata": {
        "id": "-nRFJAe3opBp"
      },
      "source": [
        "##### BernouliNB\n",
        "\n",
        "A binary algorithm used when the feature is present or not."
      ]
    },
    {
      "cell_type": "code",
      "metadata": {
        "id": "wLfvVX1_77P7",
        "execution": {
          "iopub.status.busy": "2021-11-18T18:24:15.590008Z",
          "iopub.execute_input": "2021-11-18T18:24:15.590224Z",
          "iopub.status.idle": "2021-11-18T18:24:15.701697Z",
          "shell.execute_reply.started": "2021-11-18T18:24:15.590197Z",
          "shell.execute_reply": "2021-11-18T18:24:15.700760Z"
        },
        "trusted": true,
        "colab": {
          "base_uri": "https://localhost:8080/",
          "height": 522
        },
        "outputId": "d5fe2643-811b-419b-f5ea-89922e7b8eaf"
      },
      "source": [
        "from sklearn.naive_bayes import BernoulliNB\n",
        "nb_clf = BernoulliNB()\n",
        "nb_clf.fit(x_train, y_train)\n",
        "# make prediction on testing data\n",
        "y_pred_test_nb = nb_clf.predict(x_test)\n",
        "y_predprob_nb = nb_clf.predict_proba(x_test)\n",
        "matrix_nb = confusion_matrix(y_test,y_pred_test_nb)\n",
        "print(classification_report(y_test, y_pred_test_nb))\n",
        "print(\"\\nAccuracy for Bernouli Naive Bayes model:\",metrics.accuracy_score(y_test, y_pred_test_nb))\n",
        "print(\"\\n\")\n",
        "matrix_display = ConfusionMatrixDisplay(matrix_nb).plot()"
      ],
      "execution_count": 48,
      "outputs": [
        {
          "output_type": "stream",
          "name": "stdout",
          "text": [
            "                 precision    recall  f1-score   support\n",
            "\n",
            "medium-stressed       0.18      0.09      0.12       226\n",
            "   not-stressed       0.90      0.89      0.89      2491\n",
            "       stressed       0.89      0.93      0.91      3283\n",
            "\n",
            "       accuracy                           0.88      6000\n",
            "      macro avg       0.66      0.64      0.64      6000\n",
            "   weighted avg       0.87      0.88      0.88      6000\n",
            "\n",
            "\n",
            "Accuracy for Bernouli Naive Bayes model: 0.8835\n",
            "\n",
            "\n"
          ]
        },
        {
          "output_type": "display_data",
          "data": {
            "image/png": "[encoded data removed]",
            "text/plain": [
              "<Figure size 432x288 with 2 Axes>"
            ]
          },
          "metadata": {
            "needs_background": "light"
          }
        }
      ]
    },
    {
      "cell_type": "markdown",
      "metadata": {
        "id": "i_3y0arSokl1"
      },
      "source": [
        "##### MultinominaliNB\n",
        "\n",
        "It consider a feature vector where a given term represents the number of times it appears or very ofen, such as frequency."
      ]
    },
    {
      "cell_type": "code",
      "metadata": {
        "id": "0szXmLlOphy3",
        "execution": {
          "iopub.status.busy": "2021-11-18T18:24:16.264584Z",
          "iopub.execute_input": "2021-11-18T18:24:16.265420Z",
          "iopub.status.idle": "2021-11-18T18:24:16.377668Z",
          "shell.execute_reply.started": "2021-11-18T18:24:16.265385Z",
          "shell.execute_reply": "2021-11-18T18:24:16.376751Z"
        },
        "trusted": true,
        "colab": {
          "base_uri": "https://localhost:8080/",
          "height": 522
        },
        "outputId": "5157109d-c18f-4dc3-eda3-5b995fa17b5a"
      },
      "source": [
        "mnb = MultinomialNB()\n",
        "mnb.fit(x_train, y_train)\n",
        "# make prediction on testing data\n",
        "y_pred_test_mnb = mnb.predict(x_test)\n",
        "y_predprob_mnb = mnb.predict_proba(x_test)\n",
        "matrix = confusion_matrix(y_test,y_pred_test_mnb)\n",
        "print(classification_report(y_test, y_pred_test_mnb))\n",
        "print(\"\\nAccuracy for multinominal Naive Bayes model:\",metrics.accuracy_score(y_test, y_pred_test_mnb))\n",
        "print(\"\\n\")\n",
        "\n",
        "y_predict = mnb.predict(x_test)\n",
        "cm = confusion_matrix(y_test, y_predict)\n",
        "cm_display = ConfusionMatrixDisplay(cm).plot()"
      ],
      "execution_count": 49,
      "outputs": [
        {
          "output_type": "stream",
          "name": "stdout",
          "text": [
            "                 precision    recall  f1-score   support\n",
            "\n",
            "medium-stressed       0.55      0.30      0.39       226\n",
            "   not-stressed       0.91      0.90      0.90      2491\n",
            "       stressed       0.91      0.94      0.92      3283\n",
            "\n",
            "       accuracy                           0.90      6000\n",
            "      macro avg       0.79      0.71      0.74      6000\n",
            "   weighted avg       0.89      0.90      0.90      6000\n",
            "\n",
            "\n",
            "Accuracy for multinominal Naive Bayes model: 0.9006666666666666\n",
            "\n",
            "\n"
          ]
        },
        {
          "output_type": "display_data",
          "data": {
            "image/png": "[encoded data removed]",
            "text/plain": [
              "<Figure size 432x288 with 2 Axes>"
            ]
          },
          "metadata": {
            "needs_background": "light"
          }
        }
      ]
    },
    {
      "cell_type": "markdown",
      "metadata": {
        "id": "rivuHvYu3FM-"
      },
      "source": [
        "# Cross validataion"
      ]
    },
    {
      "cell_type": "code",
      "metadata": {
        "id": "kO0UOIPNnsaZ",
        "execution": {
          "iopub.status.busy": "2021-11-18T18:24:16.975011Z",
          "iopub.execute_input": "2021-11-18T18:24:16.975308Z",
          "iopub.status.idle": "2021-11-18T18:24:17.253894Z",
          "shell.execute_reply.started": "2021-11-18T18:24:16.975267Z",
          "shell.execute_reply": "2021-11-18T18:24:17.253263Z"
        },
        "trusted": true,
        "colab": {
          "base_uri": "https://localhost:8080/"
        },
        "outputId": "d794388b-a5f6-47dc-df5d-57b56f50d2e7"
      },
      "source": [
        "acc_score_lr = metrics.accuracy_score(y_pred_test_lr,y_test)\n",
        "prec_score_lr = precision_score(y_test,y_pred_test_lr, average='macro')\n",
        "recall_lr = recall_score(y_test, y_pred_test_lr,average='macro')\n",
        "f1_lr = f1_score(y_test,y_pred_test_nb,average='macro')\n",
        "matrix_lr = confusion_matrix(y_test,y_pred_test_lr)\n",
        "print('Logistic Regression Model\\n')\n",
        "print(str('Accuracy: '+'{:04.2f}'.format(acc_score_lr*100))+'%')\n",
        "print(str('Precision: '+'{:04.2f}'.format(prec_score_lr*100))+'%')\n",
        "print(str('Recall: '+'{:04.2f}'.format(recall_lr*100))+'%')\n",
        "print('F1 Score: ',f1_lr)\n",
        "print(matrix_lr)"
      ],
      "execution_count": 50,
      "outputs": [
        {
          "output_type": "stream",
          "name": "stdout",
          "text": [
            "Logistic Regression Model\n",
            "\n",
            "Accuracy: 93.25%\n",
            "Precision: 86.14%\n",
            "Recall: 85.31%\n",
            "F1 Score:  0.6423241072497072\n",
            "[[ 153   23   50]\n",
            " [  25 2321  145]\n",
            " [  40  122 3121]]\n"
          ]
        }
      ]
    },
    {
      "cell_type": "markdown",
      "metadata": {
        "id": "av7z4Hnzn_aw"
      },
      "source": [
        "##### BernouliNB"
      ]
    },
    {
      "cell_type": "code",
      "metadata": {
        "id": "BL4jUTnHwQAA",
        "execution": {
          "iopub.status.busy": "2021-11-18T18:24:17.254941Z",
          "iopub.execute_input": "2021-11-18T18:24:17.255407Z",
          "iopub.status.idle": "2021-11-18T18:24:17.503550Z",
          "shell.execute_reply.started": "2021-11-18T18:24:17.255371Z",
          "shell.execute_reply": "2021-11-18T18:24:17.502693Z"
        },
        "trusted": true,
        "colab": {
          "base_uri": "https://localhost:8080/"
        },
        "outputId": "ca56e7e8-0e7b-423a-9be6-9769e7395b69"
      },
      "source": [
        "acc_score_nb = metrics.accuracy_score(y_pred_test_nb,y_test)\n",
        "prec_score_nb = precision_score(y_test,y_pred_test_nb, average='macro')\n",
        "recall_nb = recall_score(y_test, y_pred_test_nb,average='macro')\n",
        "f1_nb = f1_score(y_test,y_pred_test_nb,average='macro')\n",
        "matrix_nb = confusion_matrix(y_test,y_pred_test_nb)\n",
        "print('Bernouli Naive Bayes Model\\n')\n",
        "print(str('Accuracy: '+'{:04.2f}'.format(acc_score_nb*100))+'%')\n",
        "print(str('Precision: '+'{:04.2f}'.format(prec_score_nb*100))+'%')\n",
        "print(str('Recall: '+'{:04.2f}'.format(recall_nb*100))+'%')\n",
        "print('F1 Score: ',f1_nb)\n",
        "print(matrix_nb)"
      ],
      "execution_count": 51,
      "outputs": [
        {
          "output_type": "stream",
          "name": "stdout",
          "text": [
            "Bernouli Naive Bayes Model\n",
            "\n",
            "Accuracy: 88.35%\n",
            "Precision: 65.83%\n",
            "Recall: 63.71%\n",
            "F1 Score:  0.6423241072497072\n",
            "[[  20   90  116]\n",
            " [  30 2213  248]\n",
            " [  61  154 3068]]\n"
          ]
        }
      ]
    },
    {
      "cell_type": "markdown",
      "metadata": {
        "id": "0_SSgCmHoX3p"
      },
      "source": [
        "##### MultinominaliNB"
      ]
    },
    {
      "cell_type": "code",
      "metadata": {
        "id": "nwGHeF5Xv60e",
        "execution": {
          "iopub.status.busy": "2021-11-18T18:24:17.504978Z",
          "iopub.execute_input": "2021-11-18T18:24:17.505304Z",
          "iopub.status.idle": "2021-11-18T18:24:17.762226Z",
          "shell.execute_reply.started": "2021-11-18T18:24:17.505257Z",
          "shell.execute_reply": "2021-11-18T18:24:17.761314Z"
        },
        "trusted": true,
        "colab": {
          "base_uri": "https://localhost:8080/"
        },
        "outputId": "e502b3ca-2f09-4eed-be39-4b795257827b"
      },
      "source": [
        "acc_score_mnb = metrics.accuracy_score(y_pred_test_mnb,y_test)\n",
        "prec_score_mnb = precision_score(y_test,y_pred_test_mnb, average='macro')\n",
        "recall_mnb = recall_score(y_test, y_pred_test_mnb,average='macro')\n",
        "f1_mnb = f1_score(y_test,y_pred_test_mnb,average='macro')\n",
        "matrix_mnb = confusion_matrix(y_test,y_pred_test_mnb)\n",
        "print('Multimominal Naive Bayes Model\\n')\n",
        "print(str('Accuracy: '+'{:04.2f}'.format(acc_score_mnb*100))+'%')\n",
        "print(str('Precision: '+'{:04.2f}'.format(prec_score_mnb*100))+'%')\n",
        "print(str('Recall: '+'{:04.2f}'.format(recall_mnb*100))+'%')\n",
        "print('F1 Score: ',f1_mnb)\n",
        "print(matrix_mnb)"
      ],
      "execution_count": 52,
      "outputs": [
        {
          "output_type": "stream",
          "name": "stdout",
          "text": [
            "Multimominal Naive Bayes Model\n",
            "\n",
            "Accuracy: 90.07%\n",
            "Precision: 78.97%\n",
            "Recall: 71.43%\n",
            "F1 Score:  0.7394920671239252\n",
            "[[  68   74   84]\n",
            " [  19 2238  234]\n",
            " [  36  149 3098]]\n"
          ]
        }
      ]
    },
    {
      "cell_type": "markdown",
      "metadata": {
        "id": "SYMdylft3xEx"
      },
      "source": [
        "# Explain the model prediction"
      ]
    },
    {
      "cell_type": "markdown",
      "metadata": {
        "id": "35GU2wpCwukP"
      },
      "source": [
        "Multimominal Naive Bayes Model has higher accuracy than Bernouli Naive Bayes Model."
      ]
    },
    {
      "cell_type": "code",
      "metadata": {
        "id": "Y-Td0j-j3zyl",
        "execution": {
          "iopub.status.busy": "2021-11-18T18:24:17.763658Z",
          "iopub.execute_input": "2021-11-18T18:24:17.763951Z",
          "iopub.status.idle": "2021-11-18T18:24:17.792109Z",
          "shell.execute_reply.started": "2021-11-18T18:24:17.763910Z",
          "shell.execute_reply": "2021-11-18T18:24:17.791192Z"
        },
        "trusted": true,
        "colab": {
          "base_uri": "https://localhost:8080/",
          "height": 206
        },
        "outputId": "0e85a081-3311-43a4-8465-79579f8c831d"
      },
      "source": [
        "test_data = df_reidx.iloc[test_idx]\n",
        "test_data['pred_label'] = y_pred_test_lr\n",
        "test_data.head()[['sentence','label','pred_label']]\n",
        "# shows what the prediction label fit to the real label"
      ],
      "execution_count": 53,
      "outputs": [
        {
          "output_type": "execute_result",
          "data": {
            "text/html": [
              "\n",
              "  <div id=\"df-949f789a-2d9b-4049-86e5-455afa42d7dc\">\n",
              "    <div class=\"colab-df-container\">\n",
              "      <div>\n",
              "<style scoped>\n",
              "    .dataframe tbody tr th:only-of-type {\n",
              "        vertical-align: middle;\n",
              "    }\n",
              "\n",
              "    .dataframe tbody tr th {\n",
              "        vertical-align: top;\n",
              "    }\n",
              "\n",
              "    .dataframe thead th {\n",
              "        text-align: right;\n",
              "    }\n",
              "</style>\n",
              "<table border=\"1\" class=\"dataframe\">\n",
              "  <thead>\n",
              "    <tr style=\"text-align: right;\">\n",
              "      <th></th>\n",
              "      <th>sentence</th>\n",
              "      <th>label</th>\n",
              "      <th>pred_label</th>\n",
              "    </tr>\n",
              "  </thead>\n",
              "  <tbody>\n",
              "    <tr>\n",
              "      <th>10650</th>\n",
              "      <td>i noticed several months ago that i d start fe...</td>\n",
              "      <td>stressed</td>\n",
              "      <td>stressed</td>\n",
              "    </tr>\n",
              "    <tr>\n",
              "      <th>2041</th>\n",
              "      <td>i love lots of different kinds of sports and l...</td>\n",
              "      <td>not-stressed</td>\n",
              "      <td>not-stressed</td>\n",
              "    </tr>\n",
              "    <tr>\n",
              "      <th>8668</th>\n",
              "      <td>i feel even if he killed himself it was becaus...</td>\n",
              "      <td>stressed</td>\n",
              "      <td>stressed</td>\n",
              "    </tr>\n",
              "    <tr>\n",
              "      <th>1114</th>\n",
              "      <td>i feel numb the way a wound does before it rea...</td>\n",
              "      <td>stressed</td>\n",
              "      <td>stressed</td>\n",
              "    </tr>\n",
              "    <tr>\n",
              "      <th>13902</th>\n",
              "      <td>i was quite the outsider due to my british men...</td>\n",
              "      <td>stressed</td>\n",
              "      <td>stressed</td>\n",
              "    </tr>\n",
              "  </tbody>\n",
              "</table>\n",
              "</div>\n",
              "      <button class=\"colab-df-convert\" onclick=\"convertToInteractive('df-949f789a-2d9b-4049-86e5-455afa42d7dc')\"\n",
              "              title=\"Convert this dataframe to an interactive table.\"\n",
              "              style=\"display:none;\">\n",
              "        \n",
              "  <svg xmlns=\"http://www.w3.org/2000/svg\" height=\"24px\"viewBox=\"0 0 24 24\"\n",
              "       width=\"24px\">\n",
              "    <path d=\"M0 0h24v24H0V0z\" fill=\"none\"/>\n",
              "    <path d=\"M18.56 5.44l.94 2.06.94-2.06 2.06-.94-2.06-.94-.94-2.06-.94 2.06-2.06.94zm-11 1L8.5 8.5l.94-2.06 2.06-.94-2.06-.94L8.5 2.5l-.94 2.06-2.06.94zm10 10l.94 2.06.94-2.06 2.06-.94-2.06-.94-.94-2.06-.94 2.06-2.06.94z\"/><path d=\"M17.41 7.96l-1.37-1.37c-.4-.4-.92-.59-1.43-.59-.52 0-1.04.2-1.43.59L10.3 9.45l-7.72 7.72c-.78.78-.78 2.05 0 2.83L4 21.41c.39.39.9.59 1.41.59.51 0 1.02-.2 1.41-.59l7.78-7.78 2.81-2.81c.8-.78.8-2.07 0-2.86zM5.41 20L4 18.59l7.72-7.72 1.47 1.35L5.41 20z\"/>\n",
              "  </svg>\n",
              "      </button>\n",
              "      \n",
              "  <style>\n",
              "    .colab-df-container {\n",
              "      display:flex;\n",
              "      flex-wrap:wrap;\n",
              "      gap: 12px;\n",
              "    }\n",
              "\n",
              "    .colab-df-convert {\n",
              "      background-color: #E8F0FE;\n",
              "      border: none;\n",
              "      border-radius: 50%;\n",
              "      cursor: pointer;\n",
              "      display: none;\n",
              "      fill: #1967D2;\n",
              "      height: 32px;\n",
              "      padding: 0 0 0 0;\n",
              "      width: 32px;\n",
              "    }\n",
              "\n",
              "    .colab-df-convert:hover {\n",
              "      background-color: #E2EBFA;\n",
              "      box-shadow: 0px 1px 2px rgba(60, 64, 67, 0.3), 0px 1px 3px 1px rgba(60, 64, 67, 0.15);\n",
              "      fill: #174EA6;\n",
              "    }\n",
              "\n",
              "    [theme=dark] .colab-df-convert {\n",
              "      background-color: #3B4455;\n",
              "      fill: #D2E3FC;\n",
              "    }\n",
              "\n",
              "    [theme=dark] .colab-df-convert:hover {\n",
              "      background-color: #434B5C;\n",
              "      box-shadow: 0px 1px 3px 1px rgba(0, 0, 0, 0.15);\n",
              "      filter: drop-shadow(0px 1px 2px rgba(0, 0, 0, 0.3));\n",
              "      fill: #FFFFFF;\n",
              "    }\n",
              "  </style>\n",
              "\n",
              "      <script>\n",
              "        const buttonEl =\n",
              "          document.querySelector('#df-949f789a-2d9b-4049-86e5-455afa42d7dc button.colab-df-convert');\n",
              "        buttonEl.style.display =\n",
              "          google.colab.kernel.accessAllowed ? 'block' : 'none';\n",
              "\n",
              "        async function convertToInteractive(key) {\n",
              "          const element = document.querySelector('#df-949f789a-2d9b-4049-86e5-455afa42d7dc');\n",
              "          const dataTable =\n",
              "            await google.colab.kernel.invokeFunction('convertToInteractive',\n",
              "                                                     [key], {});\n",
              "          if (!dataTable) return;\n",
              "\n",
              "          const docLinkHtml = 'Like what you see? Visit the ' +\n",
              "            '<a target=\"_blank\" href=https://colab.research.google.com/notebooks/data_table.ipynb>data table notebook</a>'\n",
              "            + ' to learn more about interactive tables.';\n",
              "          element.innerHTML = '';\n",
              "          dataTable['output_type'] = 'display_data';\n",
              "          await google.colab.output.renderOutput(dataTable, element);\n",
              "          const docLink = document.createElement('div');\n",
              "          docLink.innerHTML = docLinkHtml;\n",
              "          element.appendChild(docLink);\n",
              "        }\n",
              "      </script>\n",
              "    </div>\n",
              "  </div>\n",
              "  "
            ],
            "text/plain": [
              "                                                sentence  ...    pred_label\n",
              "10650  i noticed several months ago that i d start fe...  ...      stressed\n",
              "2041   i love lots of different kinds of sports and l...  ...  not-stressed\n",
              "8668   i feel even if he killed himself it was becaus...  ...      stressed\n",
              "1114   i feel numb the way a wound does before it rea...  ...      stressed\n",
              "13902  i was quite the outsider due to my british men...  ...      stressed\n",
              "\n",
              "[5 rows x 3 columns]"
            ]
          },
          "metadata": {},
          "execution_count": 53
        }
      ]
    },
    {
      "cell_type": "code",
      "metadata": {
        "id": "G08njojA4JMi",
        "execution": {
          "iopub.status.busy": "2021-11-18T18:24:17.793646Z",
          "iopub.execute_input": "2021-11-18T18:24:17.793939Z",
          "iopub.status.idle": "2021-11-18T18:24:17.812121Z",
          "shell.execute_reply.started": "2021-11-18T18:24:17.793900Z",
          "shell.execute_reply": "2021-11-18T18:24:17.811167Z"
        },
        "trusted": true,
        "colab": {
          "base_uri": "https://localhost:8080/",
          "height": 206
        },
        "outputId": "aadeaee1-6fac-4099-c3f5-9f2f344af5a3"
      },
      "source": [
        "# shows what the prediction label does not fit to the real label\n",
        "test_data[test_data['label'] != test_data['pred_label']].head()[['sentence','label','pred_label']].head()"
      ],
      "execution_count": 54,
      "outputs": [
        {
          "output_type": "execute_result",
          "data": {
            "text/html": [
              "\n",
              "  <div id=\"df-5f4ee220-31d7-445f-be23-21ebf9bb27f9\">\n",
              "    <div class=\"colab-df-container\">\n",
              "      <div>\n",
              "<style scoped>\n",
              "    .dataframe tbody tr th:only-of-type {\n",
              "        vertical-align: middle;\n",
              "    }\n",
              "\n",
              "    .dataframe tbody tr th {\n",
              "        vertical-align: top;\n",
              "    }\n",
              "\n",
              "    .dataframe thead th {\n",
              "        text-align: right;\n",
              "    }\n",
              "</style>\n",
              "<table border=\"1\" class=\"dataframe\">\n",
              "  <thead>\n",
              "    <tr style=\"text-align: right;\">\n",
              "      <th></th>\n",
              "      <th>sentence</th>\n",
              "      <th>label</th>\n",
              "      <th>pred_label</th>\n",
              "    </tr>\n",
              "  </thead>\n",
              "  <tbody>\n",
              "    <tr>\n",
              "      <th>11072</th>\n",
              "      <td>being subject to unfair treatment in a working...</td>\n",
              "      <td>stressed</td>\n",
              "      <td>not-stressed</td>\n",
              "    </tr>\n",
              "    <tr>\n",
              "      <th>13419</th>\n",
              "      <td>i feel like a bit of a strange one</td>\n",
              "      <td>medium-stressed</td>\n",
              "      <td>stressed</td>\n",
              "    </tr>\n",
              "    <tr>\n",
              "      <th>960</th>\n",
              "      <td>i will put my hand on his scar covered chest a...</td>\n",
              "      <td>not-stressed</td>\n",
              "      <td>stressed</td>\n",
              "    </tr>\n",
              "    <tr>\n",
              "      <th>5483</th>\n",
              "      <td>i have my lowest level class first which is de...</td>\n",
              "      <td>not-stressed</td>\n",
              "      <td>stressed</td>\n",
              "    </tr>\n",
              "    <tr>\n",
              "      <th>7713</th>\n",
              "      <td>i am feel overwhelmed</td>\n",
              "      <td>stressed</td>\n",
              "      <td>medium-stressed</td>\n",
              "    </tr>\n",
              "  </tbody>\n",
              "</table>\n",
              "</div>\n",
              "      <button class=\"colab-df-convert\" onclick=\"convertToInteractive('df-5f4ee220-31d7-445f-be23-21ebf9bb27f9')\"\n",
              "              title=\"Convert this dataframe to an interactive table.\"\n",
              "              style=\"display:none;\">\n",
              "        \n",
              "  <svg xmlns=\"http://www.w3.org/2000/svg\" height=\"24px\"viewBox=\"0 0 24 24\"\n",
              "       width=\"24px\">\n",
              "    <path d=\"M0 0h24v24H0V0z\" fill=\"none\"/>\n",
              "    <path d=\"M18.56 5.44l.94 2.06.94-2.06 2.06-.94-2.06-.94-.94-2.06-.94 2.06-2.06.94zm-11 1L8.5 8.5l.94-2.06 2.06-.94-2.06-.94L8.5 2.5l-.94 2.06-2.06.94zm10 10l.94 2.06.94-2.06 2.06-.94-2.06-.94-.94-2.06-.94 2.06-2.06.94z\"/><path d=\"M17.41 7.96l-1.37-1.37c-.4-.4-.92-.59-1.43-.59-.52 0-1.04.2-1.43.59L10.3 9.45l-7.72 7.72c-.78.78-.78 2.05 0 2.83L4 21.41c.39.39.9.59 1.41.59.51 0 1.02-.2 1.41-.59l7.78-7.78 2.81-2.81c.8-.78.8-2.07 0-2.86zM5.41 20L4 18.59l7.72-7.72 1.47 1.35L5.41 20z\"/>\n",
              "  </svg>\n",
              "      </button>\n",
              "      \n",
              "  <style>\n",
              "    .colab-df-container {\n",
              "      display:flex;\n",
              "      flex-wrap:wrap;\n",
              "      gap: 12px;\n",
              "    }\n",
              "\n",
              "    .colab-df-convert {\n",
              "      background-color: #E8F0FE;\n",
              "      border: none;\n",
              "      border-radius: 50%;\n",
              "      cursor: pointer;\n",
              "      display: none;\n",
              "      fill: #1967D2;\n",
              "      height: 32px;\n",
              "      padding: 0 0 0 0;\n",
              "      width: 32px;\n",
              "    }\n",
              "\n",
              "    .colab-df-convert:hover {\n",
              "      background-color: #E2EBFA;\n",
              "      box-shadow: 0px 1px 2px rgba(60, 64, 67, 0.3), 0px 1px 3px 1px rgba(60, 64, 67, 0.15);\n",
              "      fill: #174EA6;\n",
              "    }\n",
              "\n",
              "    [theme=dark] .colab-df-convert {\n",
              "      background-color: #3B4455;\n",
              "      fill: #D2E3FC;\n",
              "    }\n",
              "\n",
              "    [theme=dark] .colab-df-convert:hover {\n",
              "      background-color: #434B5C;\n",
              "      box-shadow: 0px 1px 3px 1px rgba(0, 0, 0, 0.15);\n",
              "      filter: drop-shadow(0px 1px 2px rgba(0, 0, 0, 0.3));\n",
              "      fill: #FFFFFF;\n",
              "    }\n",
              "  </style>\n",
              "\n",
              "      <script>\n",
              "        const buttonEl =\n",
              "          document.querySelector('#df-5f4ee220-31d7-445f-be23-21ebf9bb27f9 button.colab-df-convert');\n",
              "        buttonEl.style.display =\n",
              "          google.colab.kernel.accessAllowed ? 'block' : 'none';\n",
              "\n",
              "        async function convertToInteractive(key) {\n",
              "          const element = document.querySelector('#df-5f4ee220-31d7-445f-be23-21ebf9bb27f9');\n",
              "          const dataTable =\n",
              "            await google.colab.kernel.invokeFunction('convertToInteractive',\n",
              "                                                     [key], {});\n",
              "          if (!dataTable) return;\n",
              "\n",
              "          const docLinkHtml = 'Like what you see? Visit the ' +\n",
              "            '<a target=\"_blank\" href=https://colab.research.google.com/notebooks/data_table.ipynb>data table notebook</a>'\n",
              "            + ' to learn more about interactive tables.';\n",
              "          element.innerHTML = '';\n",
              "          dataTable['output_type'] = 'display_data';\n",
              "          await google.colab.output.renderOutput(dataTable, element);\n",
              "          const docLink = document.createElement('div');\n",
              "          docLink.innerHTML = docLinkHtml;\n",
              "          element.appendChild(docLink);\n",
              "        }\n",
              "      </script>\n",
              "    </div>\n",
              "  </div>\n",
              "  "
            ],
            "text/plain": [
              "                                                sentence  ...       pred_label\n",
              "11072  being subject to unfair treatment in a working...  ...     not-stressed\n",
              "13419                 i feel like a bit of a strange one  ...         stressed\n",
              "960    i will put my hand on his scar covered chest a...  ...         stressed\n",
              "5483   i have my lowest level class first which is de...  ...         stressed\n",
              "7713                               i am feel overwhelmed  ...  medium-stressed\n",
              "\n",
              "[5 rows x 3 columns]"
            ]
          },
          "metadata": {},
          "execution_count": 54
        }
      ]
    },
    {
      "cell_type": "markdown",
      "metadata": {
        "id": "YQiIzf5nVKpy"
      },
      "source": [
        "##### Predicted features of logistic regression model"
      ]
    },
    {
      "cell_type": "code",
      "metadata": {
        "id": "MxlhT5tE4VZC",
        "execution": {
          "iopub.status.busy": "2021-11-18T18:24:17.813242Z",
          "iopub.execute_input": "2021-11-18T18:24:17.813740Z",
          "iopub.status.idle": "2021-11-18T18:24:17.835029Z",
          "shell.execute_reply.started": "2021-11-18T18:24:17.813703Z",
          "shell.execute_reply": "2021-11-18T18:24:17.834154Z"
        },
        "trusted": true,
        "colab": {
          "base_uri": "https://localhost:8080/"
        },
        "outputId": "f9b974a6-7a86-45ae-f90a-cb101f6dd639"
      },
      "source": [
        "feature_to_coef = {word: float(\"%.3f\" % coef) for word, coef in zip(vectorizer.get_feature_names(), lr_clf.coef_[0])}\n",
        "\n",
        "print(\"Top positive features:\")\n",
        "sorted(feature_to_coef.items(), key=lambda x: x[1], reverse=True)[:10]"
      ],
      "execution_count": 55,
      "outputs": [
        {
          "output_type": "stream",
          "name": "stdout",
          "text": [
            "Top positive features:\n"
          ]
        },
        {
          "output_type": "execute_result",
          "data": {
            "text/plain": [
              "[('curiou', 4.381),\n",
              " ('daze', 4.048),\n",
              " ('impress', 3.826),\n",
              " ('funni', 3.8),\n",
              " ('amaz', 3.611),\n",
              " ('shock', 3.607),\n",
              " ('surpris', 3.592),\n",
              " ('stun', 3.489),\n",
              " ('weird', 3.105),\n",
              " ('overwhelm', 3.103)]"
            ]
          },
          "metadata": {},
          "execution_count": 55
        }
      ]
    },
    {
      "cell_type": "code",
      "metadata": {
        "id": "L-Zu8m4TQ_tl",
        "execution": {
          "iopub.status.busy": "2021-11-18T18:24:17.836297Z",
          "iopub.execute_input": "2021-11-18T18:24:17.836825Z",
          "iopub.status.idle": "2021-11-18T18:24:17.848767Z",
          "shell.execute_reply.started": "2021-11-18T18:24:17.836786Z",
          "shell.execute_reply": "2021-11-18T18:24:17.847874Z"
        },
        "trusted": true,
        "colab": {
          "base_uri": "https://localhost:8080/"
        },
        "outputId": "b855977d-23b1-4859-ba50-0b6567c548f5"
      },
      "source": [
        "# most of the words are reliable evidence of indicating negative sentiments\n",
        "print(\"Top negative features:\")\n",
        "sorted(feature_to_coef.items(), key=lambda x: x[1], reverse=False)[:10]"
      ],
      "execution_count": 56,
      "outputs": [
        {
          "output_type": "stream",
          "name": "stdout",
          "text": [
            "Top negative features:\n"
          ]
        },
        {
          "output_type": "execute_result",
          "data": {
            "text/plain": [
              "[('joy', -1.151),\n",
              " ('review', -0.904),\n",
              " ('awkward', -0.868),\n",
              " ('la', -0.857),\n",
              " ('talent', -0.796),\n",
              " ('uncl', -0.793),\n",
              " ('moistur', -0.757),\n",
              " ('skin', -0.734),\n",
              " ('break', -0.698),\n",
              " ('pay', -0.692)]"
            ]
          },
          "metadata": {},
          "execution_count": 56
        }
      ]
    },
    {
      "cell_type": "markdown",
      "metadata": {
        "id": "__g2W9hzVSvI"
      },
      "source": [
        "##### Predicted features of BernouliNB"
      ]
    },
    {
      "cell_type": "code",
      "metadata": {
        "id": "OZj7AYpyQPJP",
        "execution": {
          "iopub.status.busy": "2021-11-18T18:24:17.850285Z",
          "iopub.execute_input": "2021-11-18T18:24:17.850751Z",
          "iopub.status.idle": "2021-11-18T18:24:18.011457Z",
          "shell.execute_reply.started": "2021-11-18T18:24:17.850719Z",
          "shell.execute_reply": "2021-11-18T18:24:18.010502Z"
        },
        "trusted": true,
        "colab": {
          "base_uri": "https://localhost:8080/"
        },
        "outputId": "5432771d-8af0-4a93-dd04-b029945e3ed8"
      },
      "source": [
        "feature_to_coef = {word: float(\"%.3f\" % coef) for word, coef in zip(vectorizer.get_feature_names(), nb_clf.coef_[0])}\n",
        "\n",
        "print(\"Top positive features:\")\n",
        "sorted(feature_to_coef.items(), key=lambda x: x[1], reverse=True)[:10]"
      ],
      "execution_count": 57,
      "outputs": [
        {
          "output_type": "stream",
          "name": "stdout",
          "text": [
            "Top positive features:\n"
          ]
        },
        {
          "output_type": "execute_result",
          "data": {
            "text/plain": [
              "[('amaz', -1.62),\n",
              " ('like', -1.97),\n",
              " ('surpris', -2.216),\n",
              " ('curiou', -2.253),\n",
              " ('weird', -2.293),\n",
              " ('funni', -2.398),\n",
              " ('overwhelm', -2.398),\n",
              " ('impress', -2.42),\n",
              " ('strang', -2.467),\n",
              " ('noth', -2.491)]"
            ]
          },
          "metadata": {},
          "execution_count": 57
        }
      ]
    },
    {
      "cell_type": "code",
      "metadata": {
        "id": "wCqxxw3RRBaw",
        "execution": {
          "iopub.status.busy": "2021-11-18T18:24:18.013502Z",
          "iopub.execute_input": "2021-11-18T18:24:18.013834Z",
          "iopub.status.idle": "2021-11-18T18:24:18.028076Z",
          "shell.execute_reply.started": "2021-11-18T18:24:18.013792Z",
          "shell.execute_reply": "2021-11-18T18:24:18.027050Z"
        },
        "trusted": true,
        "colab": {
          "base_uri": "https://localhost:8080/"
        },
        "outputId": "eeba553d-b635-4958-bc88-02f2916ff228"
      },
      "source": [
        "# most of the words are reliable evidence of indicating negative sentiments\n",
        "print(\"Top negative features:\")\n",
        "sorted(feature_to_coef.items(), key=lambda x: x[1], reverse=False)[:10]"
      ],
      "execution_count": 58,
      "outputs": [
        {
          "output_type": "stream",
          "name": "stdout",
          "text": [
            "Top negative features:\n"
          ]
        },
        {
          "output_type": "execute_result",
          "data": {
            "text/plain": [
              "[('aa', -6.205),\n",
              " ('abandon', -6.205),\n",
              " ('abc', -6.205),\n",
              " ('abdomen', -6.205),\n",
              " ('abid', -6.205),\n",
              " ('abit', -6.205),\n",
              " ('abroad', -6.205),\n",
              " ('absenc', -6.205),\n",
              " ('absurd', -6.205),\n",
              " ('abus', -6.205)]"
            ]
          },
          "metadata": {},
          "execution_count": 58
        }
      ]
    },
    {
      "cell_type": "markdown",
      "metadata": {
        "id": "_dd9PlAKVASq"
      },
      "source": [
        "##### Predicted features of multinomial NB"
      ]
    },
    {
      "cell_type": "code",
      "metadata": {
        "id": "sdxER_gxQPpp",
        "execution": {
          "iopub.status.busy": "2021-11-18T18:24:18.029280Z",
          "iopub.execute_input": "2021-11-18T18:24:18.029501Z",
          "iopub.status.idle": "2021-11-18T18:24:18.047438Z",
          "shell.execute_reply.started": "2021-11-18T18:24:18.029474Z",
          "shell.execute_reply": "2021-11-18T18:24:18.046849Z"
        },
        "trusted": true,
        "colab": {
          "base_uri": "https://localhost:8080/"
        },
        "outputId": "661dc6a2-9a3b-46b3-cd45-2755c80ac592"
      },
      "source": [
        "feature_to_coef = {word: float(\"%.3f\" % coef) for word, coef in zip(vectorizer.get_feature_names(), mnb.coef_[0])}\n",
        "\n",
        "print(\"Top positive features:\")\n",
        "sorted(feature_to_coef.items(), key=lambda x: x[1], reverse=True)[:10]"
      ],
      "execution_count": 59,
      "outputs": [
        {
          "output_type": "stream",
          "name": "stdout",
          "text": [
            "Top positive features:\n"
          ]
        },
        {
          "output_type": "execute_result",
          "data": {
            "text/plain": [
              "[('amaz', -4.355),\n",
              " ('like', -4.576),\n",
              " ('curiou', -4.981),\n",
              " ('surpris', -4.981),\n",
              " ('weird', -5.038),\n",
              " ('funni', -5.078),\n",
              " ('impress', -5.142),\n",
              " ('noth', -5.142),\n",
              " ('overwhelm', -5.164),\n",
              " ('littl', -5.233)]"
            ]
          },
          "metadata": {},
          "execution_count": 59
        }
      ]
    },
    {
      "cell_type": "code",
      "metadata": {
        "id": "kPa6sLvLvjbT",
        "execution": {
          "iopub.status.busy": "2021-11-18T18:24:18.048315Z",
          "iopub.execute_input": "2021-11-18T18:24:18.048527Z",
          "iopub.status.idle": "2021-11-18T18:24:18.058496Z",
          "shell.execute_reply.started": "2021-11-18T18:24:18.048499Z",
          "shell.execute_reply": "2021-11-18T18:24:18.057512Z"
        },
        "trusted": true,
        "colab": {
          "base_uri": "https://localhost:8080/"
        },
        "outputId": "3f970010-af0a-4012-ea73-52a671ddf959"
      },
      "source": [
        "# most of the words are reliable evidence of indicating negative sentiments\n",
        "print(\"Top negative features:\")\n",
        "sorted(feature_to_coef.items(), key=lambda x: x[1], reverse=False)[:10]"
      ],
      "execution_count": 60,
      "outputs": [
        {
          "output_type": "stream",
          "name": "stdout",
          "text": [
            "Top negative features:\n"
          ]
        },
        {
          "output_type": "execute_result",
          "data": {
            "text/plain": [
              "[('aa', -8.97),\n",
              " ('abandon', -8.97),\n",
              " ('abc', -8.97),\n",
              " ('abdomen', -8.97),\n",
              " ('abid', -8.97),\n",
              " ('abit', -8.97),\n",
              " ('abroad', -8.97),\n",
              " ('absenc', -8.97),\n",
              " ('absurd', -8.97),\n",
              " ('abus', -8.97)]"
            ]
          },
          "metadata": {},
          "execution_count": 60
        }
      ]
    },
    {
      "cell_type": "markdown",
      "metadata": {
        "id": "4enhxresvsZo"
      },
      "source": [
        "# Conclusion"
      ]
    },
    {
      "cell_type": "code",
      "metadata": {
        "id": "sy7jHH-Fv18V",
        "execution": {
          "iopub.status.busy": "2021-11-18T18:24:18.059908Z",
          "iopub.execute_input": "2021-11-18T18:24:18.060141Z",
          "iopub.status.idle": "2021-11-18T18:24:18.074679Z",
          "shell.execute_reply.started": "2021-11-18T18:24:18.060110Z",
          "shell.execute_reply": "2021-11-18T18:24:18.074033Z"
        },
        "trusted": true,
        "colab": {
          "base_uri": "https://localhost:8080/"
        },
        "outputId": "5c10097e-4c22-415c-e2f1-5842d355c85b"
      },
      "source": [
        "text=['i am not feeling well', 'i want to make this project better', 'i feel aaaaaaah', 'i feel like a bit of a strange one', 'i feel overwhelmed']\n",
        "test_result = lr_clf.predict(vectorizer.transform(text))\n",
        "print(test_result)"
      ],
      "execution_count": 61,
      "outputs": [
        {
          "output_type": "stream",
          "name": "stdout",
          "text": [
            "['stressed' 'not-stressed' 'stressed' 'stressed' 'stressed']\n"
          ]
        }
      ]
    }
  ]
}